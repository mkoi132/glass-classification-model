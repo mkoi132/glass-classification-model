{
 "cells": [
  {
   "cell_type": "code",
   "execution_count": 1,
   "id": "90cc5916",
   "metadata": {},
   "outputs": [],
   "source": [
    "#paths to the data sets\n",
    "path=\"./glass_identification/glass.csv\""
   ]
  },
  {
   "cell_type": "code",
   "execution_count": 2,
   "id": "bbe63dfc",
   "metadata": {},
   "outputs": [
    {
     "data": {
      "text/html": [
       "<div>\n",
       "<style scoped>\n",
       "    .dataframe tbody tr th:only-of-type {\n",
       "        vertical-align: middle;\n",
       "    }\n",
       "\n",
       "    .dataframe tbody tr th {\n",
       "        vertical-align: top;\n",
       "    }\n",
       "\n",
       "    .dataframe thead th {\n",
       "        text-align: right;\n",
       "    }\n",
       "</style>\n",
       "<table border=\"1\" class=\"dataframe\">\n",
       "  <thead>\n",
       "    <tr style=\"text-align: right;\">\n",
       "      <th></th>\n",
       "      <th>RI</th>\n",
       "      <th>Na</th>\n",
       "      <th>Mg</th>\n",
       "      <th>Al</th>\n",
       "      <th>Si</th>\n",
       "      <th>K</th>\n",
       "      <th>Ca</th>\n",
       "      <th>Ba</th>\n",
       "      <th>Fe</th>\n",
       "      <th>Type_of_glass</th>\n",
       "    </tr>\n",
       "  </thead>\n",
       "  <tbody>\n",
       "    <tr>\n",
       "      <th>1</th>\n",
       "      <td>1.52101</td>\n",
       "      <td>13.64</td>\n",
       "      <td>4.49</td>\n",
       "      <td>1.10</td>\n",
       "      <td>71.78</td>\n",
       "      <td>0.06</td>\n",
       "      <td>8.75</td>\n",
       "      <td>0.00</td>\n",
       "      <td>0.0</td>\n",
       "      <td>1</td>\n",
       "    </tr>\n",
       "    <tr>\n",
       "      <th>2</th>\n",
       "      <td>1.51761</td>\n",
       "      <td>13.89</td>\n",
       "      <td>3.60</td>\n",
       "      <td>1.36</td>\n",
       "      <td>72.73</td>\n",
       "      <td>0.48</td>\n",
       "      <td>7.83</td>\n",
       "      <td>0.00</td>\n",
       "      <td>0.0</td>\n",
       "      <td>1</td>\n",
       "    </tr>\n",
       "    <tr>\n",
       "      <th>3</th>\n",
       "      <td>1.51618</td>\n",
       "      <td>13.53</td>\n",
       "      <td>3.55</td>\n",
       "      <td>1.54</td>\n",
       "      <td>72.99</td>\n",
       "      <td>0.39</td>\n",
       "      <td>7.78</td>\n",
       "      <td>0.00</td>\n",
       "      <td>0.0</td>\n",
       "      <td>1</td>\n",
       "    </tr>\n",
       "    <tr>\n",
       "      <th>4</th>\n",
       "      <td>1.51766</td>\n",
       "      <td>13.21</td>\n",
       "      <td>3.69</td>\n",
       "      <td>1.29</td>\n",
       "      <td>72.61</td>\n",
       "      <td>0.57</td>\n",
       "      <td>8.22</td>\n",
       "      <td>0.00</td>\n",
       "      <td>0.0</td>\n",
       "      <td>1</td>\n",
       "    </tr>\n",
       "    <tr>\n",
       "      <th>5</th>\n",
       "      <td>1.51742</td>\n",
       "      <td>13.27</td>\n",
       "      <td>3.62</td>\n",
       "      <td>1.24</td>\n",
       "      <td>73.08</td>\n",
       "      <td>0.55</td>\n",
       "      <td>8.07</td>\n",
       "      <td>0.00</td>\n",
       "      <td>0.0</td>\n",
       "      <td>1</td>\n",
       "    </tr>\n",
       "    <tr>\n",
       "      <th>...</th>\n",
       "      <td>...</td>\n",
       "      <td>...</td>\n",
       "      <td>...</td>\n",
       "      <td>...</td>\n",
       "      <td>...</td>\n",
       "      <td>...</td>\n",
       "      <td>...</td>\n",
       "      <td>...</td>\n",
       "      <td>...</td>\n",
       "      <td>...</td>\n",
       "    </tr>\n",
       "    <tr>\n",
       "      <th>210</th>\n",
       "      <td>1.51623</td>\n",
       "      <td>14.14</td>\n",
       "      <td>0.00</td>\n",
       "      <td>2.88</td>\n",
       "      <td>72.61</td>\n",
       "      <td>0.08</td>\n",
       "      <td>9.18</td>\n",
       "      <td>1.06</td>\n",
       "      <td>0.0</td>\n",
       "      <td>7</td>\n",
       "    </tr>\n",
       "    <tr>\n",
       "      <th>211</th>\n",
       "      <td>1.51685</td>\n",
       "      <td>14.92</td>\n",
       "      <td>0.00</td>\n",
       "      <td>1.99</td>\n",
       "      <td>73.06</td>\n",
       "      <td>0.00</td>\n",
       "      <td>8.40</td>\n",
       "      <td>1.59</td>\n",
       "      <td>0.0</td>\n",
       "      <td>7</td>\n",
       "    </tr>\n",
       "    <tr>\n",
       "      <th>212</th>\n",
       "      <td>1.52065</td>\n",
       "      <td>14.36</td>\n",
       "      <td>0.00</td>\n",
       "      <td>2.02</td>\n",
       "      <td>73.42</td>\n",
       "      <td>0.00</td>\n",
       "      <td>8.44</td>\n",
       "      <td>1.64</td>\n",
       "      <td>0.0</td>\n",
       "      <td>7</td>\n",
       "    </tr>\n",
       "    <tr>\n",
       "      <th>213</th>\n",
       "      <td>1.51651</td>\n",
       "      <td>14.38</td>\n",
       "      <td>0.00</td>\n",
       "      <td>1.94</td>\n",
       "      <td>73.61</td>\n",
       "      <td>0.00</td>\n",
       "      <td>8.48</td>\n",
       "      <td>1.57</td>\n",
       "      <td>0.0</td>\n",
       "      <td>7</td>\n",
       "    </tr>\n",
       "    <tr>\n",
       "      <th>214</th>\n",
       "      <td>1.51711</td>\n",
       "      <td>14.23</td>\n",
       "      <td>0.00</td>\n",
       "      <td>2.08</td>\n",
       "      <td>73.36</td>\n",
       "      <td>0.00</td>\n",
       "      <td>8.62</td>\n",
       "      <td>1.67</td>\n",
       "      <td>0.0</td>\n",
       "      <td>7</td>\n",
       "    </tr>\n",
       "  </tbody>\n",
       "</table>\n",
       "<p>214 rows × 10 columns</p>\n",
       "</div>"
      ],
      "text/plain": [
       "          RI     Na    Mg    Al     Si     K    Ca    Ba   Fe  Type_of_glass\n",
       "1    1.52101  13.64  4.49  1.10  71.78  0.06  8.75  0.00  0.0              1\n",
       "2    1.51761  13.89  3.60  1.36  72.73  0.48  7.83  0.00  0.0              1\n",
       "3    1.51618  13.53  3.55  1.54  72.99  0.39  7.78  0.00  0.0              1\n",
       "4    1.51766  13.21  3.69  1.29  72.61  0.57  8.22  0.00  0.0              1\n",
       "5    1.51742  13.27  3.62  1.24  73.08  0.55  8.07  0.00  0.0              1\n",
       "..       ...    ...   ...   ...    ...   ...   ...   ...  ...            ...\n",
       "210  1.51623  14.14  0.00  2.88  72.61  0.08  9.18  1.06  0.0              7\n",
       "211  1.51685  14.92  0.00  1.99  73.06  0.00  8.40  1.59  0.0              7\n",
       "212  1.52065  14.36  0.00  2.02  73.42  0.00  8.44  1.64  0.0              7\n",
       "213  1.51651  14.38  0.00  1.94  73.61  0.00  8.48  1.57  0.0              7\n",
       "214  1.51711  14.23  0.00  2.08  73.36  0.00  8.62  1.67  0.0              7\n",
       "\n",
       "[214 rows x 10 columns]"
      ]
     },
     "execution_count": 2,
     "metadata": {},
     "output_type": "execute_result"
    }
   ],
   "source": [
    "#read with pandas\n",
    "import pandas as pd\n",
    "#attach featurenames as described\n",
    "columns=['RI','Na','Mg','Al','Si','K','Ca','Ba','Fe', 'Type_of_glass']\n",
    "df=pd.read_csv(path, sep=',', decimal='.',index_col=0, header=None, names=columns)\n",
    "#id number should be index to prevent leak info to the model\n",
    "df"
   ]
  },
  {
   "cell_type": "code",
   "execution_count": 3,
   "id": "49a335db",
   "metadata": {},
   "outputs": [
    {
     "data": {
      "text/plain": [
       "(214, 10)"
      ]
     },
     "execution_count": 3,
     "metadata": {},
     "output_type": "execute_result"
    }
   ],
   "source": [
    "#check if the loaded data frame match with original source file.\n",
    "df.shape"
   ]
  },
  {
   "cell_type": "code",
   "execution_count": 4,
   "id": "fc763ba8",
   "metadata": {},
   "outputs": [
    {
     "data": {
      "text/plain": [
       "RI               float64\n",
       "Na               float64\n",
       "Mg               float64\n",
       "Al               float64\n",
       "Si               float64\n",
       "K                float64\n",
       "Ca               float64\n",
       "Ba               float64\n",
       "Fe               float64\n",
       "Type_of_glass      int64\n",
       "dtype: object"
      ]
     },
     "execution_count": 4,
     "metadata": {},
     "output_type": "execute_result"
    }
   ],
   "source": [
    "df.dtypes"
   ]
  },
  {
   "cell_type": "code",
   "execution_count": 5,
   "id": "42404ec2",
   "metadata": {},
   "outputs": [],
   "source": [
    "#sanitise data"
   ]
  },
  {
   "cell_type": "code",
   "execution_count": 6,
   "id": "256256e5",
   "metadata": {},
   "outputs": [
    {
     "data": {
      "text/plain": [
       "(213, 10)"
      ]
     },
     "execution_count": 6,
     "metadata": {},
     "output_type": "execute_result"
    }
   ],
   "source": [
    "#no need to drop NaN as dataset is specified to have none\n",
    "#remove duplicate if have any\n",
    "df=df.drop_duplicates()\n",
    "df.shape\n",
    "#droped 1 duplicate"
   ]
  },
  {
   "cell_type": "code",
   "execution_count": 7,
   "id": "371467df",
   "metadata": {},
   "outputs": [
    {
     "data": {
      "image/png": "[encoded data removed]",
      "text/plain": [
       "<Figure size 432x288 with 1 Axes>"
      ]
     },
     "metadata": {
      "needs_background": "light"
     },
     "output_type": "display_data"
    }
   ],
   "source": [
    "import matplotlib.pyplot as plt\n",
    "df[['Na','Mg','Al','Si','K','Ca','Ba','Fe']].plot(kind='box', title='Element percentage distribution')\n",
    "#Add labels\n",
    "plt.ylabel('Percentage of oxide')\n",
    "plt.xlabel('Oxide name')\n",
    "plt.show()\n"
   ]
  },
  {
   "cell_type": "code",
   "execution_count": 8,
   "id": "b12bcc0e",
   "metadata": {},
   "outputs": [
    {
     "data": {
      "text/html": [
       "<div>\n",
       "<style scoped>\n",
       "    .dataframe tbody tr th:only-of-type {\n",
       "        vertical-align: middle;\n",
       "    }\n",
       "\n",
       "    .dataframe tbody tr th {\n",
       "        vertical-align: top;\n",
       "    }\n",
       "\n",
       "    .dataframe thead th {\n",
       "        text-align: right;\n",
       "    }\n",
       "</style>\n",
       "<table border=\"1\" class=\"dataframe\">\n",
       "  <thead>\n",
       "    <tr style=\"text-align: right;\">\n",
       "      <th></th>\n",
       "      <th>RI</th>\n",
       "      <th>Na</th>\n",
       "      <th>Mg</th>\n",
       "      <th>Al</th>\n",
       "      <th>Si</th>\n",
       "      <th>K</th>\n",
       "      <th>Ca</th>\n",
       "      <th>Ba</th>\n",
       "      <th>Fe</th>\n",
       "      <th>Type_of_glass</th>\n",
       "    </tr>\n",
       "  </thead>\n",
       "  <tbody>\n",
       "    <tr>\n",
       "      <th>count</th>\n",
       "      <td>213.000000</td>\n",
       "      <td>213.000000</td>\n",
       "      <td>213.000000</td>\n",
       "      <td>213.000000</td>\n",
       "      <td>213.000000</td>\n",
       "      <td>213.000000</td>\n",
       "      <td>213.000000</td>\n",
       "      <td>213.000000</td>\n",
       "      <td>213.000000</td>\n",
       "      <td>213.000000</td>\n",
       "    </tr>\n",
       "    <tr>\n",
       "      <th>mean</th>\n",
       "      <td>1.518348</td>\n",
       "      <td>13.404085</td>\n",
       "      <td>2.679202</td>\n",
       "      <td>1.449484</td>\n",
       "      <td>72.655070</td>\n",
       "      <td>0.498873</td>\n",
       "      <td>8.954085</td>\n",
       "      <td>0.175869</td>\n",
       "      <td>0.057277</td>\n",
       "      <td>2.788732</td>\n",
       "    </tr>\n",
       "    <tr>\n",
       "      <th>std</th>\n",
       "      <td>0.003033</td>\n",
       "      <td>0.816662</td>\n",
       "      <td>1.443691</td>\n",
       "      <td>0.495925</td>\n",
       "      <td>0.773998</td>\n",
       "      <td>0.653185</td>\n",
       "      <td>1.425882</td>\n",
       "      <td>0.498245</td>\n",
       "      <td>0.097589</td>\n",
       "      <td>2.105130</td>\n",
       "    </tr>\n",
       "    <tr>\n",
       "      <th>min</th>\n",
       "      <td>1.511150</td>\n",
       "      <td>10.730000</td>\n",
       "      <td>0.000000</td>\n",
       "      <td>0.290000</td>\n",
       "      <td>69.810000</td>\n",
       "      <td>0.000000</td>\n",
       "      <td>5.430000</td>\n",
       "      <td>0.000000</td>\n",
       "      <td>0.000000</td>\n",
       "      <td>1.000000</td>\n",
       "    </tr>\n",
       "    <tr>\n",
       "      <th>25%</th>\n",
       "      <td>1.516520</td>\n",
       "      <td>12.900000</td>\n",
       "      <td>2.090000</td>\n",
       "      <td>1.190000</td>\n",
       "      <td>72.280000</td>\n",
       "      <td>0.130000</td>\n",
       "      <td>8.240000</td>\n",
       "      <td>0.000000</td>\n",
       "      <td>0.000000</td>\n",
       "      <td>1.000000</td>\n",
       "    </tr>\n",
       "    <tr>\n",
       "      <th>50%</th>\n",
       "      <td>1.517680</td>\n",
       "      <td>13.300000</td>\n",
       "      <td>3.480000</td>\n",
       "      <td>1.360000</td>\n",
       "      <td>72.790000</td>\n",
       "      <td>0.560000</td>\n",
       "      <td>8.600000</td>\n",
       "      <td>0.000000</td>\n",
       "      <td>0.000000</td>\n",
       "      <td>2.000000</td>\n",
       "    </tr>\n",
       "    <tr>\n",
       "      <th>75%</th>\n",
       "      <td>1.519150</td>\n",
       "      <td>13.810000</td>\n",
       "      <td>3.600000</td>\n",
       "      <td>1.630000</td>\n",
       "      <td>73.090000</td>\n",
       "      <td>0.610000</td>\n",
       "      <td>9.150000</td>\n",
       "      <td>0.000000</td>\n",
       "      <td>0.100000</td>\n",
       "      <td>3.000000</td>\n",
       "    </tr>\n",
       "    <tr>\n",
       "      <th>max</th>\n",
       "      <td>1.533930</td>\n",
       "      <td>17.380000</td>\n",
       "      <td>4.490000</td>\n",
       "      <td>3.500000</td>\n",
       "      <td>75.410000</td>\n",
       "      <td>6.210000</td>\n",
       "      <td>16.190000</td>\n",
       "      <td>3.150000</td>\n",
       "      <td>0.510000</td>\n",
       "      <td>7.000000</td>\n",
       "    </tr>\n",
       "  </tbody>\n",
       "</table>\n",
       "</div>"
      ],
      "text/plain": [
       "               RI          Na          Mg          Al          Si           K  \\\n",
       "count  213.000000  213.000000  213.000000  213.000000  213.000000  213.000000   \n",
       "mean     1.518348   13.404085    2.679202    1.449484   72.655070    0.498873   \n",
       "std      0.003033    0.816662    1.443691    0.495925    0.773998    0.653185   \n",
       "min      1.511150   10.730000    0.000000    0.290000   69.810000    0.000000   \n",
       "25%      1.516520   12.900000    2.090000    1.190000   72.280000    0.130000   \n",
       "50%      1.517680   13.300000    3.480000    1.360000   72.790000    0.560000   \n",
       "75%      1.519150   13.810000    3.600000    1.630000   73.090000    0.610000   \n",
       "max      1.533930   17.380000    4.490000    3.500000   75.410000    6.210000   \n",
       "\n",
       "               Ca          Ba          Fe  Type_of_glass  \n",
       "count  213.000000  213.000000  213.000000     213.000000  \n",
       "mean     8.954085    0.175869    0.057277       2.788732  \n",
       "std      1.425882    0.498245    0.097589       2.105130  \n",
       "min      5.430000    0.000000    0.000000       1.000000  \n",
       "25%      8.240000    0.000000    0.000000       1.000000  \n",
       "50%      8.600000    0.000000    0.000000       2.000000  \n",
       "75%      9.150000    0.000000    0.100000       3.000000  \n",
       "max     16.190000    3.150000    0.510000       7.000000  "
      ]
     },
     "execution_count": 8,
     "metadata": {},
     "output_type": "execute_result"
    }
   ],
   "source": [
    "#get statistical attributes and save them into a data frame\n",
    "summary=df.describe()\n",
    "summary"
   ]
  },
  {
   "cell_type": "code",
   "execution_count": 9,
   "id": "660c279f",
   "metadata": {},
   "outputs": [],
   "source": [
    "# calculate the whiskers values for each feature to handle outliers\n",
    "# IQR = Q3-Q1\n",
    "Q1=summary.loc['25%', :]\n",
    "Q3=summary.loc['75%', :]\n",
    "IQR= Q3-Q1\n",
    "# upper whisker   \n",
    "Q4=Q3+1.5*IQR\n",
    "# lower whisker   \n",
    "Q0=Q1-1.5*IQR"
   ]
  },
  {
   "cell_type": "code",
   "execution_count": 10,
   "id": "d33ffef7",
   "metadata": {},
   "outputs": [
    {
     "name": "stdout",
     "output_type": "stream",
     "text": [
      "1.5230949999999999 1.5125750000000002\n"
     ]
    },
    {
     "name": "stderr",
     "output_type": "stream",
     "text": [
      "C:\\Users\\khoi1\\anaconda3\\lib\\site-packages\\pandas\\core\\indexing.py:1720: SettingWithCopyWarning: \n",
      "A value is trying to be set on a copy of a slice from a DataFrame.\n",
      "Try using .loc[row_indexer,col_indexer] = value instead\n",
      "\n",
      "See the caveats in the documentation: https://pandas.pydata.org/pandas-docs/stable/user_guide/indexing.html#returning-a-view-versus-a-copy\n",
      "  self._setitem_single_column(loc, value, pi)\n",
      "C:\\Users\\khoi1\\anaconda3\\lib\\site-packages\\pandas\\core\\indexing.py:1720: SettingWithCopyWarning: \n",
      "A value is trying to be set on a copy of a slice from a DataFrame.\n",
      "Try using .loc[row_indexer,col_indexer] = value instead\n",
      "\n",
      "See the caveats in the documentation: https://pandas.pydata.org/pandas-docs/stable/user_guide/indexing.html#returning-a-view-versus-a-copy\n",
      "  self._setitem_single_column(loc, value, pi)\n",
      "C:\\Users\\khoi1\\anaconda3\\lib\\site-packages\\pandas\\core\\series.py:4463: SettingWithCopyWarning: \n",
      "A value is trying to be set on a copy of a slice from a DataFrame\n",
      "\n",
      "See the caveats in the documentation: https://pandas.pydata.org/pandas-docs/stable/user_guide/indexing.html#returning-a-view-versus-a-copy\n",
      "  return super().fillna(\n"
     ]
    }
   ],
   "source": [
    "import numpy as np\n",
    "x=Q4['RI']\n",
    "y=Q0['RI']\n",
    "#drop ourliers outside the whiskers\n",
    "df.loc[df['RI']>x,'RI']=np.nan\n",
    "df.loc[df['RI']<y,'RI']=np.nan\n",
    "#replace with mean\n",
    "df['RI'].fillna(df['RI'].mean(), inplace=True)\n",
    "print(x, y)"
   ]
  },
  {
   "cell_type": "code",
   "execution_count": 11,
   "id": "a13dedab",
   "metadata": {},
   "outputs": [
    {
     "data": {
      "image/png": "[encoded data removed]",
      "text/plain": [
       "<Figure size 432x288 with 1 Axes>"
      ]
     },
     "metadata": {
      "needs_background": "light"
     },
     "output_type": "display_data"
    }
   ],
   "source": [
    "df[['RI']].plot(kind='box', title='Reflective Index value distribution')\n",
    "#Add labels\n",
    "plt.ylabel('RI value')\n",
    "plt.show()"
   ]
  },
  {
   "cell_type": "code",
   "execution_count": 12,
   "id": "e712f226",
   "metadata": {},
   "outputs": [
    {
     "name": "stderr",
     "output_type": "stream",
     "text": [
      "C:\\Users\\khoi1\\anaconda3\\lib\\site-packages\\pandas\\core\\indexing.py:1720: SettingWithCopyWarning: \n",
      "A value is trying to be set on a copy of a slice from a DataFrame.\n",
      "Try using .loc[row_indexer,col_indexer] = value instead\n",
      "\n",
      "See the caveats in the documentation: https://pandas.pydata.org/pandas-docs/stable/user_guide/indexing.html#returning-a-view-versus-a-copy\n",
      "  self._setitem_single_column(loc, value, pi)\n",
      "C:\\Users\\khoi1\\anaconda3\\lib\\site-packages\\pandas\\core\\indexing.py:1720: SettingWithCopyWarning: \n",
      "A value is trying to be set on a copy of a slice from a DataFrame.\n",
      "Try using .loc[row_indexer,col_indexer] = value instead\n",
      "\n",
      "See the caveats in the documentation: https://pandas.pydata.org/pandas-docs/stable/user_guide/indexing.html#returning-a-view-versus-a-copy\n",
      "  self._setitem_single_column(loc, value, pi)\n",
      "C:\\Users\\khoi1\\anaconda3\\lib\\site-packages\\pandas\\core\\series.py:4463: SettingWithCopyWarning: \n",
      "A value is trying to be set on a copy of a slice from a DataFrame\n",
      "\n",
      "See the caveats in the documentation: https://pandas.pydata.org/pandas-docs/stable/user_guide/indexing.html#returning-a-view-versus-a-copy\n",
      "  return super().fillna(\n"
     ]
    },
    {
     "data": {
      "image/png": "[encoded data removed]",
      "text/plain": [
       "<Figure size 432x288 with 1 Axes>"
      ]
     },
     "metadata": {
      "needs_background": "light"
     },
     "output_type": "display_data"
    }
   ],
   "source": [
    "x=Q4['Na']\n",
    "y=Q0['Na']\n",
    "#drop ourliers outside the whiskers\n",
    "df.loc[df['Na']>x,'Na']=np.nan\n",
    "df.loc[df['Na']<y,'Na']=np.nan\n",
    "#replace with mean\n",
    "df['Na'].fillna(df['Na'].mean(), inplace=True)\n",
    "df[['Na']].plot(kind='box', title='Element percentage distribution')\n",
    "#Add labels\n",
    "plt.ylabel('Percentage of oxide')\n",
    "plt.xlabel('Oxide name')\n",
    "plt.show()"
   ]
  },
  {
   "cell_type": "code",
   "execution_count": 13,
   "id": "251bc03c",
   "metadata": {},
   "outputs": [
    {
     "data": {
      "image/png": "[encoded data removed]",
      "text/plain": [
       "<Figure size 432x288 with 1 Axes>"
      ]
     },
     "metadata": {
      "needs_background": "light"
     },
     "output_type": "display_data"
    }
   ],
   "source": [
    "import matplotlib.pyplot as plt\n",
    "df[['Mg']].plot(kind='box', title='Element percentage distribution')\n",
    "#Add labels\n",
    "plt.ylabel('Percentage of oxide')\n",
    "plt.xlabel('Oxide name')\n",
    "plt.show()\n",
    "#no outliers :)"
   ]
  },
  {
   "cell_type": "code",
   "execution_count": 14,
   "id": "bac7d3c5",
   "metadata": {},
   "outputs": [
    {
     "name": "stderr",
     "output_type": "stream",
     "text": [
      "C:\\Users\\khoi1\\anaconda3\\lib\\site-packages\\pandas\\core\\indexing.py:1720: SettingWithCopyWarning: \n",
      "A value is trying to be set on a copy of a slice from a DataFrame.\n",
      "Try using .loc[row_indexer,col_indexer] = value instead\n",
      "\n",
      "See the caveats in the documentation: https://pandas.pydata.org/pandas-docs/stable/user_guide/indexing.html#returning-a-view-versus-a-copy\n",
      "  self._setitem_single_column(loc, value, pi)\n",
      "C:\\Users\\khoi1\\anaconda3\\lib\\site-packages\\pandas\\core\\indexing.py:1720: SettingWithCopyWarning: \n",
      "A value is trying to be set on a copy of a slice from a DataFrame.\n",
      "Try using .loc[row_indexer,col_indexer] = value instead\n",
      "\n",
      "See the caveats in the documentation: https://pandas.pydata.org/pandas-docs/stable/user_guide/indexing.html#returning-a-view-versus-a-copy\n",
      "  self._setitem_single_column(loc, value, pi)\n",
      "C:\\Users\\khoi1\\anaconda3\\lib\\site-packages\\pandas\\core\\series.py:4463: SettingWithCopyWarning: \n",
      "A value is trying to be set on a copy of a slice from a DataFrame\n",
      "\n",
      "See the caveats in the documentation: https://pandas.pydata.org/pandas-docs/stable/user_guide/indexing.html#returning-a-view-versus-a-copy\n",
      "  return super().fillna(\n"
     ]
    },
    {
     "data": {
      "image/png": "[encoded data removed]",
      "text/plain": [
       "<Figure size 432x288 with 1 Axes>"
      ]
     },
     "metadata": {
      "needs_background": "light"
     },
     "output_type": "display_data"
    }
   ],
   "source": [
    "x=Q4['Al']\n",
    "y=Q0['Al']\n",
    "#drop ourliers outside the whiskers\n",
    "df.loc[df['Al']>x,'Al']=np.nan\n",
    "df.loc[df['Al']<y,'Al']=np.nan\n",
    "#replace with mean\n",
    "df['Al'].fillna(df['Al'].mean(), inplace=True)\n",
    "df[['Al']].plot(kind='box', title='Element percentage distribution')\n",
    "#Add labels\n",
    "plt.ylabel('Percentage of oxide')\n",
    "plt.xlabel('Oxide name')\n",
    "plt.show()"
   ]
  },
  {
   "cell_type": "code",
   "execution_count": 15,
   "id": "6e326df4",
   "metadata": {},
   "outputs": [
    {
     "name": "stderr",
     "output_type": "stream",
     "text": [
      "C:\\Users\\khoi1\\anaconda3\\lib\\site-packages\\pandas\\core\\indexing.py:1720: SettingWithCopyWarning: \n",
      "A value is trying to be set on a copy of a slice from a DataFrame.\n",
      "Try using .loc[row_indexer,col_indexer] = value instead\n",
      "\n",
      "See the caveats in the documentation: https://pandas.pydata.org/pandas-docs/stable/user_guide/indexing.html#returning-a-view-versus-a-copy\n",
      "  self._setitem_single_column(loc, value, pi)\n",
      "C:\\Users\\khoi1\\anaconda3\\lib\\site-packages\\pandas\\core\\indexing.py:1720: SettingWithCopyWarning: \n",
      "A value is trying to be set on a copy of a slice from a DataFrame.\n",
      "Try using .loc[row_indexer,col_indexer] = value instead\n",
      "\n",
      "See the caveats in the documentation: https://pandas.pydata.org/pandas-docs/stable/user_guide/indexing.html#returning-a-view-versus-a-copy\n",
      "  self._setitem_single_column(loc, value, pi)\n",
      "C:\\Users\\khoi1\\anaconda3\\lib\\site-packages\\pandas\\core\\series.py:4463: SettingWithCopyWarning: \n",
      "A value is trying to be set on a copy of a slice from a DataFrame\n",
      "\n",
      "See the caveats in the documentation: https://pandas.pydata.org/pandas-docs/stable/user_guide/indexing.html#returning-a-view-versus-a-copy\n",
      "  return super().fillna(\n"
     ]
    },
    {
     "data": {
      "image/png": "[encoded data removed]",
      "text/plain": [
       "<Figure size 432x288 with 1 Axes>"
      ]
     },
     "metadata": {
      "needs_background": "light"
     },
     "output_type": "display_data"
    }
   ],
   "source": [
    "x=Q4['Si']\n",
    "y=Q0['Si']\n",
    "#drop ourliers outside the whiskers\n",
    "df.loc[df['Si']>x,'Si']=np.nan\n",
    "df.loc[df['Si']<y,'Si']=np.nan\n",
    "#replace with mean\n",
    "df['Si'].fillna(df['Si'].mean(), inplace=True)\n",
    "df[['Si']].plot(kind='box', title='Element percentage distribution')\n",
    "#Add labels\n",
    "plt.ylabel('Percentage of oxide')\n",
    "plt.xlabel('Oxide name')\n",
    "plt.show()\n",
    "#higer percentage compare to other, main component of all glass types."
   ]
  },
  {
   "cell_type": "code",
   "execution_count": 16,
   "id": "6e1a44cb",
   "metadata": {},
   "outputs": [
    {
     "name": "stderr",
     "output_type": "stream",
     "text": [
      "C:\\Users\\khoi1\\anaconda3\\lib\\site-packages\\pandas\\core\\indexing.py:1720: SettingWithCopyWarning: \n",
      "A value is trying to be set on a copy of a slice from a DataFrame.\n",
      "Try using .loc[row_indexer,col_indexer] = value instead\n",
      "\n",
      "See the caveats in the documentation: https://pandas.pydata.org/pandas-docs/stable/user_guide/indexing.html#returning-a-view-versus-a-copy\n",
      "  self._setitem_single_column(loc, value, pi)\n",
      "C:\\Users\\khoi1\\anaconda3\\lib\\site-packages\\pandas\\core\\indexing.py:1720: SettingWithCopyWarning: \n",
      "A value is trying to be set on a copy of a slice from a DataFrame.\n",
      "Try using .loc[row_indexer,col_indexer] = value instead\n",
      "\n",
      "See the caveats in the documentation: https://pandas.pydata.org/pandas-docs/stable/user_guide/indexing.html#returning-a-view-versus-a-copy\n",
      "  self._setitem_single_column(loc, value, pi)\n",
      "C:\\Users\\khoi1\\anaconda3\\lib\\site-packages\\pandas\\core\\series.py:4463: SettingWithCopyWarning: \n",
      "A value is trying to be set on a copy of a slice from a DataFrame\n",
      "\n",
      "See the caveats in the documentation: https://pandas.pydata.org/pandas-docs/stable/user_guide/indexing.html#returning-a-view-versus-a-copy\n",
      "  return super().fillna(\n"
     ]
    },
    {
     "data": {
      "image/png": "[encoded data removed]",
      "text/plain": [
       "<Figure size 432x288 with 1 Axes>"
      ]
     },
     "metadata": {
      "needs_background": "light"
     },
     "output_type": "display_data"
    }
   ],
   "source": [
    "x=Q4['K']\n",
    "y=Q0['K']\n",
    "#drop ourliers outside the whiskers\n",
    "df.loc[df['K']>x,'K']=np.nan\n",
    "df.loc[df['K']<y,'K']=np.nan\n",
    "#replace with mean\n",
    "df['K'].fillna(df['K'].mean(), inplace=True)\n",
    "df[['K']].plot(kind='box', title='Element percentage distribution')\n",
    "#Add labels\n",
    "plt.ylabel('Percentage of oxide')\n",
    "plt.xlabel('Oxide name')\n",
    "plt.show()"
   ]
  },
  {
   "cell_type": "code",
   "execution_count": 17,
   "id": "ed42a9bc",
   "metadata": {},
   "outputs": [
    {
     "name": "stderr",
     "output_type": "stream",
     "text": [
      "C:\\Users\\khoi1\\anaconda3\\lib\\site-packages\\pandas\\core\\indexing.py:1720: SettingWithCopyWarning: \n",
      "A value is trying to be set on a copy of a slice from a DataFrame.\n",
      "Try using .loc[row_indexer,col_indexer] = value instead\n",
      "\n",
      "See the caveats in the documentation: https://pandas.pydata.org/pandas-docs/stable/user_guide/indexing.html#returning-a-view-versus-a-copy\n",
      "  self._setitem_single_column(loc, value, pi)\n",
      "C:\\Users\\khoi1\\anaconda3\\lib\\site-packages\\pandas\\core\\indexing.py:1720: SettingWithCopyWarning: \n",
      "A value is trying to be set on a copy of a slice from a DataFrame.\n",
      "Try using .loc[row_indexer,col_indexer] = value instead\n",
      "\n",
      "See the caveats in the documentation: https://pandas.pydata.org/pandas-docs/stable/user_guide/indexing.html#returning-a-view-versus-a-copy\n",
      "  self._setitem_single_column(loc, value, pi)\n",
      "C:\\Users\\khoi1\\anaconda3\\lib\\site-packages\\pandas\\core\\series.py:4463: SettingWithCopyWarning: \n",
      "A value is trying to be set on a copy of a slice from a DataFrame\n",
      "\n",
      "See the caveats in the documentation: https://pandas.pydata.org/pandas-docs/stable/user_guide/indexing.html#returning-a-view-versus-a-copy\n",
      "  return super().fillna(\n"
     ]
    },
    {
     "data": {
      "image/png": "[encoded data removed]",
      "text/plain": [
       "<Figure size 432x288 with 1 Axes>"
      ]
     },
     "metadata": {
      "needs_background": "light"
     },
     "output_type": "display_data"
    }
   ],
   "source": [
    "x=Q4['Ca']\n",
    "y=Q0['Ca']\n",
    "#drop ourliers outside the whiskers\n",
    "df.loc[df['Ca']>x,'Ca']=np.nan\n",
    "df.loc[df['Ca']<y,'Ca']=np.nan\n",
    "#replace with mean\n",
    "df['Ca'].fillna(df['Ca'].mean(), inplace=True)\n",
    "df[['Ca']].plot(kind='box', title='Element percentage distribution')\n",
    "#Add labels\n",
    "plt.ylabel('Percentage of oxide')\n",
    "plt.xlabel('Oxide name')\n",
    "plt.show()"
   ]
  },
  {
   "cell_type": "code",
   "execution_count": 18,
   "id": "dbfe8878",
   "metadata": {},
   "outputs": [
    {
     "data": {
      "image/png": "[encoded data removed]",
      "text/plain": [
       "<Figure size 432x288 with 1 Axes>"
      ]
     },
     "metadata": {
      "needs_background": "light"
     },
     "output_type": "display_data"
    }
   ],
   "source": [
    "df[['Ba']].plot(kind='box', title='Element percentage distribution')\n",
    "#Add labels\n",
    "plt.ylabel('Percentage of oxide')\n",
    "plt.xlabel('Oxide name')\n",
    "plt.show()\n",
    "#leave as not able to detect whiskers"
   ]
  },
  {
   "cell_type": "code",
   "execution_count": 19,
   "id": "c4cedc55",
   "metadata": {},
   "outputs": [
    {
     "name": "stderr",
     "output_type": "stream",
     "text": [
      "C:\\Users\\khoi1\\anaconda3\\lib\\site-packages\\pandas\\core\\indexing.py:1720: SettingWithCopyWarning: \n",
      "A value is trying to be set on a copy of a slice from a DataFrame.\n",
      "Try using .loc[row_indexer,col_indexer] = value instead\n",
      "\n",
      "See the caveats in the documentation: https://pandas.pydata.org/pandas-docs/stable/user_guide/indexing.html#returning-a-view-versus-a-copy\n",
      "  self._setitem_single_column(loc, value, pi)\n",
      "C:\\Users\\khoi1\\anaconda3\\lib\\site-packages\\pandas\\core\\indexing.py:1720: SettingWithCopyWarning: \n",
      "A value is trying to be set on a copy of a slice from a DataFrame.\n",
      "Try using .loc[row_indexer,col_indexer] = value instead\n",
      "\n",
      "See the caveats in the documentation: https://pandas.pydata.org/pandas-docs/stable/user_guide/indexing.html#returning-a-view-versus-a-copy\n",
      "  self._setitem_single_column(loc, value, pi)\n",
      "C:\\Users\\khoi1\\anaconda3\\lib\\site-packages\\pandas\\core\\series.py:4463: SettingWithCopyWarning: \n",
      "A value is trying to be set on a copy of a slice from a DataFrame\n",
      "\n",
      "See the caveats in the documentation: https://pandas.pydata.org/pandas-docs/stable/user_guide/indexing.html#returning-a-view-versus-a-copy\n",
      "  return super().fillna(\n"
     ]
    },
    {
     "data": {
      "image/png": "[encoded data removed]",
      "text/plain": [
       "<Figure size 432x288 with 1 Axes>"
      ]
     },
     "metadata": {
      "needs_background": "light"
     },
     "output_type": "display_data"
    }
   ],
   "source": [
    "x=Q4['Fe']\n",
    "y=Q0['Fe']\n",
    "#drop ourliers outside the whiskers\n",
    "df.loc[df['Fe']>x,'Fe']=np.nan\n",
    "df.loc[df['Fe']<y,'Fe']=np.nan\n",
    "#replace with mean\n",
    "df['Fe'].fillna(df['Fe'].mean(), inplace=True)\n",
    "df[['Fe']].plot(kind='box', title='Element percentage distribution')\n",
    "#Add labels\n",
    "plt.ylabel('Percentage of oxide')\n",
    "plt.xlabel('Oxide name')\n",
    "plt.show()"
   ]
  },
  {
   "cell_type": "code",
   "execution_count": 20,
   "id": "d1713c0a",
   "metadata": {},
   "outputs": [
    {
     "data": {
      "image/png": "[encoded data removed]",
      "text/plain": [
       "<Figure size 432x288 with 1 Axes>"
      ]
     },
     "metadata": {
      "needs_background": "light"
     },
     "output_type": "display_data"
    }
   ],
   "source": [
    "df[['Type_of_glass']].plot(kind='hist', title='Distribution of glass sample record')\n",
    "#Add labels\n",
    "plt.ylabel('frequency')\n",
    "plt.xlabel('Type of glass')\n",
    "plt.legend('')\n",
    "plt.show()"
   ]
  },
  {
   "cell_type": "code",
   "execution_count": 21,
   "id": "0dd7f1ab",
   "metadata": {},
   "outputs": [],
   "source": [
    "# Hypothesis"
   ]
  },
  {
   "cell_type": "code",
   "execution_count": 22,
   "id": "c4531ddd",
   "metadata": {},
   "outputs": [
    {
     "data": {
      "image/png": "[encoded data removed]",
      "text/plain": [
       "<Figure size 432x288 with 1 Axes>"
      ]
     },
     "metadata": {
      "needs_background": "light"
     },
     "output_type": "display_data"
    }
   ],
   "source": [
    "#1 Si is the most popular item in all types of glass, considering the pecentage distibution\n",
    "#True more than 72% of Si found in each type of glass, pedict high popularity.\n",
    "df.boxplot(column='Si',by='Type_of_glass')\n",
    "plt.title('')  # Set an empty title\n",
    "plt.ylabel('Si(%)')\n",
    "plt.suptitle('Si Percentage Distribution grouped by Type of Glass')\n",
    "plt.show()"
   ]
  },
  {
   "cell_type": "code",
   "execution_count": 23,
   "id": "94113f52",
   "metadata": {},
   "outputs": [
    {
     "data": {
      "image/png": "[encoded data removed]",
      "text/plain": [
       "<Figure size 432x288 with 1 Axes>"
      ]
     },
     "metadata": {
      "needs_background": "light"
     },
     "output_type": "display_data"
    }
   ],
   "source": [
    "#2 all type of glasses contain a consolidate amount of Na\n",
    "#true: each of them contain more than 12% of Na with type 6 and 7 amongs the top 2 with Na\n",
    "df.boxplot(column='Na',by='Type_of_glass')\n",
    "plt.title('')  # Set an empty title\n",
    "plt.ylabel('Na(%)')\n",
    "plt.suptitle('Na Percentage Distribution grouped by Type of Glass')\n",
    "plt.show()"
   ]
  },
  {
   "cell_type": "code",
   "execution_count": 24,
   "id": "42418fa6",
   "metadata": {},
   "outputs": [
    {
     "data": {
      "image/png": "[encoded data removed]",
      "text/plain": [
       "<Figure size 432x288 with 1 Axes>"
      ]
     },
     "metadata": {
      "needs_background": "light"
     },
     "output_type": "display_data"
    }
   ],
   "source": [
    "#3 RI could be used to difeerenticate type of glass\n",
    "df.boxplot(column='RI',by='Type_of_glass')\n",
    "plt.title('')  # Set an empty title\n",
    "plt.suptitle('RI value distribution grouped by Type of Glass')\n",
    "plt.show()"
   ]
  },
  {
   "cell_type": "code",
   "execution_count": 25,
   "id": "4b45bbe9",
   "metadata": {},
   "outputs": [
    {
     "data": {
      "image/png": "[encoded data removed]",
      "text/plain": [
       "<Figure size 432x288 with 1 Axes>"
      ]
     },
     "metadata": {
      "needs_background": "light"
     },
     "output_type": "display_data"
    }
   ],
   "source": [
    "#1. float glass contain more than average percentage of Mg than the non float glass 1 vs glass 2\n",
    "fl=df[df['Type_of_glass']==1]\n",
    "nfl=df[df['Type_of_glass']==2]\n",
    "fl=fl[['Mg','Al','K','Ca','Ba','Fe']].mean()\n",
    "nfl=nfl[['Mg','Al','K','Ca','Ba','Fe']].mean()\n",
    "import matplotlib.pyplot as plt\n",
    "\n",
    "ind = range(len(fl))  # Create an index range for the bars\n",
    "width = 0.4  # Set the width of each bar\n",
    "\n",
    "# Plot the bars side by side\n",
    "plt.bar(ind, fl, width, label='Float Glass')\n",
    "plt.bar([i + width for i in ind], nfl, width, label='Non-float Glass', color='r')\n",
    "\n",
    "plt.xlabel('Component')\n",
    "plt.ylabel('Percentage')\n",
    "plt.title('Float vs Non-float Glass Rare Components')\n",
    "plt.legend()\n",
    "plt.xticks([i + width/2 for i in ind], fl.index)  # Set x-axis ticks at the center of each group\n",
    "plt.show()\n"
   ]
  },
  {
   "cell_type": "code",
   "execution_count": 26,
   "id": "01e17bf1",
   "metadata": {},
   "outputs": [
    {
     "data": {
      "image/png": "[encoded data removed]",
      "text/plain": [
       "<Figure size 432x288 with 1 Axes>"
      ]
     },
     "metadata": {
      "needs_background": "light"
     },
     "output_type": "display_data"
    }
   ],
   "source": [
    "plt.scatter(df['Si'], df['RI'])\n",
    "plt.ylabel('RI')\n",
    "plt.xlabel('Si (%)')\n",
    "plt.title('RI and Si percentage')\n",
    "\n",
    "plt.show()"
   ]
  },
  {
   "cell_type": "code",
   "execution_count": null,
   "id": "1efb880e",
   "metadata": {},
   "outputs": [],
   "source": []
  },
  {
   "cell_type": "code",
   "execution_count": 27,
   "id": "9e60ec44",
   "metadata": {},
   "outputs": [
    {
     "data": {
      "image/png": "[encoded data removed]",
      "text/plain": [
       "<Figure size 432x288 with 1 Axes>"
      ]
     },
     "metadata": {
      "needs_background": "light"
     },
     "output_type": "display_data"
    }
   ],
   "source": [
    "#2. As the Ba oxide percentage increases, the Fe oxide percentage instances decrease\n",
    "#indicating a potential inverse relationship  Ba oxide percentages and the presence of Fe oxide.\n",
    "plt.scatter(df['Ba'], df['Fe'])\n",
    "plt.ylabel('Fe (%)')\n",
    "plt.xlabel('Ba (%)')\n",
    "plt.title('Oxide percentage distribution')\n",
    "\n",
    "plt.show()"
   ]
  },
  {
   "cell_type": "code",
   "execution_count": 28,
   "id": "98d96f8b",
   "metadata": {},
   "outputs": [
    {
     "data": {
      "image/png": "[encoded data removed]",
      "text/plain": [
       "<Figure size 432x288 with 1 Axes>"
      ]
     },
     "metadata": {
      "needs_background": "light"
     },
     "output_type": "display_data"
    }
   ],
   "source": [
    "#4 Fe component `are rarely used in all glass tyope\n",
    "#flase, used a small amount in type 1 2 and 3\n",
    "df.boxplot(column='Fe',by='Type_of_glass')\n",
    "plt.show()"
   ]
  },
  {
   "cell_type": "code",
   "execution_count": 29,
   "id": "724174fb",
   "metadata": {},
   "outputs": [
    {
     "data": {
      "image/png": "[encoded data removed]",
      "text/plain": [
       "<Figure size 432x288 with 1 Axes>"
      ]
     },
     "metadata": {
      "needs_background": "light"
     },
     "output_type": "display_data"
    }
   ],
   "source": [
    "    #3 Ba component is rarely use in all glass types\n",
    "    #false, type 7 used a noticable amount of Ba\n",
    "    df.boxplot(column='Ba',by='Type_of_glass')\n",
    "    plt.show()\n"
   ]
  },
  {
   "cell_type": "code",
   "execution_count": 30,
   "id": "12a2fbdc",
   "metadata": {},
   "outputs": [
    {
     "data": {
      "image/png": "[encoded data removed]",
      "text/plain": [
       "<Figure size 432x288 with 1 Axes>"
      ]
     },
     "metadata": {
      "needs_background": "light"
     },
     "output_type": "display_data"
    }
   ],
   "source": [
    "#4 \n",
    "df.boxplot(column='Mg',by='Type_of_glass')\n",
    "plt.show()"
   ]
  },
  {
   "cell_type": "code",
   "execution_count": 31,
   "id": "c5dcbf04",
   "metadata": {},
   "outputs": [
    {
     "data": {
      "image/png": "[encoded data removed]",
      "text/plain": [
       "<Figure size 432x288 with 1 Axes>"
      ]
     },
     "metadata": {
      "needs_background": "light"
     },
     "output_type": "display_data"
    }
   ],
   "source": [
    "#Higher sodium content may affect the refractive index of the glass.\n",
    "#False, no corelation\n",
    "plt.scatter(df['Na'], df['RI'])\n",
    "plt.ylabel('RI')\n",
    "plt.xlabel('Na (%)')\n",
    "plt.title('RI and Na relation')\n",
    "\n",
    "plt.show()"
   ]
  },
  {
   "cell_type": "code",
   "execution_count": 32,
   "id": "26a06919",
   "metadata": {},
   "outputs": [
    {
     "data": {
      "image/png": "[encoded data removed]",
      "text/plain": [
       "<Figure size 432x288 with 1 Axes>"
      ]
     },
     "metadata": {
      "needs_background": "light"
     },
     "output_type": "display_data"
    }
   ],
   "source": [
    "#Higher calcium content may affect the refractive index of the glass.\n",
    "#False, no corelation\n",
    "plt.scatter(df['Ca'], df['RI'])\n",
    "plt.ylabel('RI')\n",
    "plt.xlabel('Ca (%)')\n",
    "plt.title('RI and Ca relation')\n",
    "\n",
    "plt.show()"
   ]
  },
  {
   "cell_type": "code",
   "execution_count": 33,
   "id": "8be565dd",
   "metadata": {},
   "outputs": [],
   "source": [
    "#data modeling\n",
    "#initiate\n",
    "df_data=df[['RI','Na','Mg','Al','Si','K','Ca','Ba','Fe']]\n",
    "\n",
    "df_target=df['Type_of_glass']"
   ]
  },
  {
   "cell_type": "code",
   "execution_count": 34,
   "id": "6c4c9108",
   "metadata": {},
   "outputs": [],
   "source": [
    "# Generate Train and test split\n",
    "\n",
    "from sklearn.model_selection import train_test_split\n",
    "X_train,X_test,y_train,y_test = train_test_split(df_data,df_target,test_size=0.20,random_state=4)"
   ]
  },
  {
   "cell_type": "code",
   "execution_count": 35,
   "id": "61d1829e",
   "metadata": {},
   "outputs": [],
   "source": [
    "#kneighbor classifier\n",
    "from sklearn.neighbors import KNeighborsClassifier\n",
    "clf1 = KNeighborsClassifier(n_neighbors=3, weights='distance', p=2)\n",
    "#fit the data (train the classifier)\n",
    "fit1 = clf1.fit(X_train, y_train)\n",
    "#test (predict)\n",
    "y_pred1 = fit1.predict(X_test)\n",
    "#evaluate\n",
    "#confusion matrix\n",
    "from sklearn.metrics import confusion_matrix\n",
    "cm1 =confusion_matrix(y_test, y_pred1)\n"
   ]
  },
  {
   "cell_type": "code",
   "execution_count": 36,
   "id": "d6c2e70e",
   "metadata": {},
   "outputs": [
    {
     "name": "stdout",
     "output_type": "stream",
     "text": [
      "[train/test split] score: 0.79070\n"
     ]
    }
   ],
   "source": [
    "#accuracy score clf1\n",
    "print(\"[train/test split] score: {:.5f}\".format(clf1.score(X_test, y_test)))"
   ]
  },
  {
   "cell_type": "code",
   "execution_count": 37,
   "id": "41fb9ec3",
   "metadata": {},
   "outputs": [],
   "source": [
    "#Decision Treee classifier"
   ]
  },
  {
   "cell_type": "code",
   "execution_count": 38,
   "id": "e745ee1a",
   "metadata": {},
   "outputs": [],
   "source": [
    "from sklearn.tree import DecisionTreeClassifier\n",
    "# DecisionTreeClassifier(*, criterion='gini', splitter='best', max_depth=None,\n",
    "#                        min_samples_split=2, min_samples_leaf=2, min_weight_fraction_leaf=0.0, \n",
    "#                        max_features=None, random_state=None, max_leaf_nodes=None, min_impurity_decrease=0.0,\n",
    "#                        class_weight=None, ccp_alpha=0.0, monotonic_cst=None)\n",
    "# Initialisation\n",
    "#\n",
    "clf2 = DecisionTreeClassifier(min_samples_split=6,min_samples_leaf=3, min_weight_fraction_leaf = 0.1)\n",
    "# train (FIT)\n",
    "fit2 = clf2.fit(X_train,y_train)\n",
    "\n",
    "# test(Predict)\n",
    "y_pred2 = fit2.predict(X_test)\n",
    "cm2 = confusion_matrix(y_test,y_pred2)\n"
   ]
  },
  {
   "cell_type": "code",
   "execution_count": 39,
   "id": "08d3b2b3",
   "metadata": {},
   "outputs": [
    {
     "name": "stdout",
     "output_type": "stream",
     "text": [
      "Accuracy Score: 0.8372093023255814\n"
     ]
    }
   ],
   "source": [
    "#accuracy score clf2\n",
    "from sklearn import metrics #Import scikit-learn metrics module for accuracy calculation\n",
    "\n",
    "print(\"Accuracy Score:\",metrics.accuracy_score(y_test, y_pred2))"
   ]
  },
  {
   "cell_type": "code",
   "execution_count": 40,
   "id": "e4218b8b",
   "metadata": {},
   "outputs": [],
   "source": [
    "from sklearn import tree\n",
    "with open('df.dot','w') as f:\n",
    "    f = tree.export_graphviz(clf2, out_file = f, \n",
    "                             feature_names = ['RI','Na','Mg','Al','Si','K','Ca','Ba','Fe'],\n",
    "                             class_names = ['1', '2', '3', '5', '6', '7'],\n",
    "                             filled=True, rounded = True, \n",
    "                             special_characters=True)"
   ]
  },
  {
   "cell_type": "code",
   "execution_count": null,
   "id": "d44ad82e",
   "metadata": {},
   "outputs": [],
   "source": []
  },
  {
   "cell_type": "code",
   "execution_count": null,
   "id": "420b7838",
   "metadata": {},
   "outputs": [],
   "source": []
  },
  {
   "cell_type": "code",
   "execution_count": 41,
   "id": "a79ce71b",
   "metadata": {},
   "outputs": [
    {
     "name": "stdout",
     "output_type": "stream",
     "text": [
      "Score with 1 selected features: 0.46511627906976744\n",
      "Score with 2 selected features: 0.5116279069767442\n",
      "Score with 3 selected features: 0.5813953488372093\n",
      "Score with 4 selected features: 0.7209302325581395\n",
      "Score with 5 selected features: 0.7209302325581395\n",
      "Score with 6 selected features: 0.7209302325581395\n",
      "Score with 7 selected features: 0.7441860465116279\n",
      "Score with 8 selected features: 0.7906976744186046\n",
      "Score with 9 selected features: 0.7906976744186046\n"
     ]
    }
   ],
   "source": [
    "# hill clibing\n",
    "import pylab as plt\n",
    "\n",
    "from sklearn.utils import shuffle\n",
    "X=df_data\n",
    "col_num = X.shape[1]\n",
    "\n",
    "new_Ind = []\n",
    "cur_MaxScore = 0.0\n",
    "col_Ind_Random = shuffle(range(0,col_num), random_state=4)\n",
    "\n",
    "for cur_f in range(0, col_num):\n",
    "    new_Ind.append(col_Ind_Random[cur_f])\n",
    "    newData = X.iloc[:, new_Ind].copy()\n",
    "    X_train, X_test, y_train, y_test = train_test_split(newData, df_target, test_size=0.20, random_state=4)\n",
    "    clf1 = KNeighborsClassifier(n_neighbors=3, weights='distance', p=2)\n",
    "    fit = clf1.fit(X_train, y_train)\n",
    "    cur_Score = clf1.score(X_test, y_test)\n",
    "    if cur_Score< cur_MaxScore:\n",
    "        new_Ind.remove(col_Ind_Random[cur_f])\n",
    "    else:\n",
    "        cur_MaxScore = cur_Score\n",
    "        print(\"Score with \" + str(len(new_Ind)) + \" selected features: \" + str(cur_Score))"
   ]
  },
  {
   "cell_type": "code",
   "execution_count": null,
   "id": "50e14bbe",
   "metadata": {},
   "outputs": [],
   "source": []
  },
  {
   "cell_type": "code",
   "execution_count": null,
   "id": "d7a44063",
   "metadata": {},
   "outputs": [],
   "source": []
  },
  {
   "cell_type": "markdown",
   "id": "7a086aa3",
   "metadata": {},
   "source": [
    "### "
   ]
  }
 ],
 "metadata": {
  "kernelspec": {
   "display_name": "Python 3",
   "language": "python",
   "name": "python3"
  },
  "language_info": {
   "codemirror_mode": {
    "name": "ipython",
    "version": 3
   },
   "file_extension": ".py",
   "mimetype": "text/x-python",
   "name": "python",
   "nbconvert_exporter": "python",
   "pygments_lexer": "ipython3",
   "version": "3.8.8"
  }
 },
 "nbformat": 4,
 "nbformat_minor": 5
}
